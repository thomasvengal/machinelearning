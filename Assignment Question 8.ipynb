{
 "cells": [
  {
   "cell_type": "markdown",
   "metadata": {},
   "source": [
    "# Machine Learning, Assignment - 8 \n",
    "## <div class=\"alert alert-info\"><b>Comparing Naive Bayes classifier and Logistic Regression classifier  on image classification of face.</b></div>"
   ]
  },
  {
   "cell_type": "markdown",
   "metadata": {},
   "source": [
    "<div class=\"alert alert-info\"> 1. Download a dataset from https://github.com/StephenMilborrow/muct . Group the images into male and female categories based on the images. (2 points) </div>"
   ]
  },
  {
   "cell_type": "code",
   "execution_count": 1,
   "metadata": {},
   "outputs": [
    {
     "name": "stdout",
     "output_type": "stream",
     "text": [
      "751\n",
      "751\n"
     ]
    }
   ],
   "source": [
    "# copy the file path into lists\n",
    "\n",
    "import os\n",
    "\n",
    "categories = ['Female','Male']\n",
    "\n",
    "path = \"C:\\Seetha\\data\\muct-a-jpg\\\\\"\n",
    "\n",
    "fileNames = []\n",
    "category = []\n",
    "for c in categories:           \n",
    "     new_path = path + c        \n",
    "     for file in os.listdir(new_path):   \n",
    "        fileNames.append(os.path.join(new_path,file)) \n",
    "        category.append(c)\n",
    "\n",
    "print(len(fileNames))\n",
    "print(len(category))"
   ]
  },
  {
   "cell_type": "code",
   "execution_count": 2,
   "metadata": {},
   "outputs": [
    {
     "name": "stdout",
     "output_type": "stream",
     "text": [
      "751\n"
     ]
    }
   ],
   "source": [
    "# load the images \n",
    "\n",
    "from PIL import Image\n",
    "\n",
    "import numpy as np\n",
    "\n",
    "images = [] \n",
    "for file in fileNames:    \n",
    "    img = Image.open(file).convert('LA')\n",
    "    img = img.resize((28, 28))\n",
    "    img = np.ravel(img)\n",
    "    images.append(img)\n",
    "    \n",
    "print(len(images))"
   ]
  },
  {
   "cell_type": "code",
   "execution_count": 3,
   "metadata": {},
   "outputs": [
    {
     "name": "stdout",
     "output_type": "stream",
     "text": [
      "(751, 1568)\n"
     ]
    },
    {
     "data": {
      "text/html": [
       "<div>\n",
       "<style scoped>\n",
       "    .dataframe tbody tr th:only-of-type {\n",
       "        vertical-align: middle;\n",
       "    }\n",
       "\n",
       "    .dataframe tbody tr th {\n",
       "        vertical-align: top;\n",
       "    }\n",
       "\n",
       "    .dataframe thead th {\n",
       "        text-align: right;\n",
       "    }\n",
       "</style>\n",
       "<table border=\"1\" class=\"dataframe\">\n",
       "  <thead>\n",
       "    <tr style=\"text-align: right;\">\n",
       "      <th></th>\n",
       "      <th>0</th>\n",
       "      <th>1</th>\n",
       "      <th>2</th>\n",
       "      <th>3</th>\n",
       "      <th>4</th>\n",
       "      <th>5</th>\n",
       "      <th>6</th>\n",
       "      <th>7</th>\n",
       "      <th>8</th>\n",
       "      <th>9</th>\n",
       "      <th>...</th>\n",
       "      <th>1558</th>\n",
       "      <th>1559</th>\n",
       "      <th>1560</th>\n",
       "      <th>1561</th>\n",
       "      <th>1562</th>\n",
       "      <th>1563</th>\n",
       "      <th>1564</th>\n",
       "      <th>1565</th>\n",
       "      <th>1566</th>\n",
       "      <th>1567</th>\n",
       "    </tr>\n",
       "  </thead>\n",
       "  <tbody>\n",
       "    <tr>\n",
       "      <th>0</th>\n",
       "      <td>111</td>\n",
       "      <td>255</td>\n",
       "      <td>114</td>\n",
       "      <td>255</td>\n",
       "      <td>114</td>\n",
       "      <td>255</td>\n",
       "      <td>113</td>\n",
       "      <td>255</td>\n",
       "      <td>118</td>\n",
       "      <td>255</td>\n",
       "      <td>...</td>\n",
       "      <td>50</td>\n",
       "      <td>255</td>\n",
       "      <td>66</td>\n",
       "      <td>255</td>\n",
       "      <td>48</td>\n",
       "      <td>255</td>\n",
       "      <td>68</td>\n",
       "      <td>255</td>\n",
       "      <td>48</td>\n",
       "      <td>255</td>\n",
       "    </tr>\n",
       "    <tr>\n",
       "      <th>1</th>\n",
       "      <td>113</td>\n",
       "      <td>255</td>\n",
       "      <td>118</td>\n",
       "      <td>255</td>\n",
       "      <td>116</td>\n",
       "      <td>255</td>\n",
       "      <td>117</td>\n",
       "      <td>255</td>\n",
       "      <td>116</td>\n",
       "      <td>255</td>\n",
       "      <td>...</td>\n",
       "      <td>42</td>\n",
       "      <td>255</td>\n",
       "      <td>42</td>\n",
       "      <td>255</td>\n",
       "      <td>51</td>\n",
       "      <td>255</td>\n",
       "      <td>74</td>\n",
       "      <td>255</td>\n",
       "      <td>86</td>\n",
       "      <td>255</td>\n",
       "    </tr>\n",
       "    <tr>\n",
       "      <th>2</th>\n",
       "      <td>163</td>\n",
       "      <td>255</td>\n",
       "      <td>167</td>\n",
       "      <td>255</td>\n",
       "      <td>166</td>\n",
       "      <td>255</td>\n",
       "      <td>168</td>\n",
       "      <td>255</td>\n",
       "      <td>171</td>\n",
       "      <td>255</td>\n",
       "      <td>...</td>\n",
       "      <td>77</td>\n",
       "      <td>255</td>\n",
       "      <td>74</td>\n",
       "      <td>255</td>\n",
       "      <td>68</td>\n",
       "      <td>255</td>\n",
       "      <td>67</td>\n",
       "      <td>255</td>\n",
       "      <td>102</td>\n",
       "      <td>255</td>\n",
       "    </tr>\n",
       "    <tr>\n",
       "      <th>3</th>\n",
       "      <td>110</td>\n",
       "      <td>255</td>\n",
       "      <td>111</td>\n",
       "      <td>255</td>\n",
       "      <td>111</td>\n",
       "      <td>255</td>\n",
       "      <td>108</td>\n",
       "      <td>255</td>\n",
       "      <td>116</td>\n",
       "      <td>255</td>\n",
       "      <td>...</td>\n",
       "      <td>110</td>\n",
       "      <td>255</td>\n",
       "      <td>101</td>\n",
       "      <td>255</td>\n",
       "      <td>112</td>\n",
       "      <td>255</td>\n",
       "      <td>105</td>\n",
       "      <td>255</td>\n",
       "      <td>107</td>\n",
       "      <td>255</td>\n",
       "    </tr>\n",
       "    <tr>\n",
       "      <th>4</th>\n",
       "      <td>114</td>\n",
       "      <td>255</td>\n",
       "      <td>118</td>\n",
       "      <td>255</td>\n",
       "      <td>117</td>\n",
       "      <td>255</td>\n",
       "      <td>117</td>\n",
       "      <td>255</td>\n",
       "      <td>116</td>\n",
       "      <td>255</td>\n",
       "      <td>...</td>\n",
       "      <td>102</td>\n",
       "      <td>255</td>\n",
       "      <td>92</td>\n",
       "      <td>255</td>\n",
       "      <td>104</td>\n",
       "      <td>255</td>\n",
       "      <td>97</td>\n",
       "      <td>255</td>\n",
       "      <td>103</td>\n",
       "      <td>255</td>\n",
       "    </tr>\n",
       "  </tbody>\n",
       "</table>\n",
       "<p>5 rows × 1568 columns</p>\n",
       "</div>"
      ],
      "text/plain": [
       "   0     1     2     3     4     5     6     7     8     9     ...  1558  \\\n",
       "0   111   255   114   255   114   255   113   255   118   255  ...    50   \n",
       "1   113   255   118   255   116   255   117   255   116   255  ...    42   \n",
       "2   163   255   167   255   166   255   168   255   171   255  ...    77   \n",
       "3   110   255   111   255   111   255   108   255   116   255  ...   110   \n",
       "4   114   255   118   255   117   255   117   255   116   255  ...   102   \n",
       "\n",
       "   1559  1560  1561  1562  1563  1564  1565  1566  1567  \n",
       "0   255    66   255    48   255    68   255    48   255  \n",
       "1   255    42   255    51   255    74   255    86   255  \n",
       "2   255    74   255    68   255    67   255   102   255  \n",
       "3   255   101   255   112   255   105   255   107   255  \n",
       "4   255    92   255   104   255    97   255   103   255  \n",
       "\n",
       "[5 rows x 1568 columns]"
      ]
     },
     "execution_count": 3,
     "metadata": {},
     "output_type": "execute_result"
    }
   ],
   "source": [
    "# Convert the images to a dataframe\n",
    "import pandas as pd\n",
    "\n",
    "df = pd.DataFrame(images)\n",
    "\n",
    "print(df.shape)\n",
    "df.head()"
   ]
  },
  {
   "cell_type": "code",
   "execution_count": 4,
   "metadata": {},
   "outputs": [
    {
     "name": "stdout",
     "output_type": "stream",
     "text": [
      "['Female' 'Male']\n"
     ]
    },
    {
     "data": {
      "text/html": [
       "<div>\n",
       "<style scoped>\n",
       "    .dataframe tbody tr th:only-of-type {\n",
       "        vertical-align: middle;\n",
       "    }\n",
       "\n",
       "    .dataframe tbody tr th {\n",
       "        vertical-align: top;\n",
       "    }\n",
       "\n",
       "    .dataframe thead th {\n",
       "        text-align: right;\n",
       "    }\n",
       "</style>\n",
       "<table border=\"1\" class=\"dataframe\">\n",
       "  <thead>\n",
       "    <tr style=\"text-align: right;\">\n",
       "      <th></th>\n",
       "      <th>0</th>\n",
       "      <th>1</th>\n",
       "      <th>2</th>\n",
       "      <th>3</th>\n",
       "      <th>4</th>\n",
       "      <th>5</th>\n",
       "      <th>6</th>\n",
       "      <th>7</th>\n",
       "      <th>8</th>\n",
       "      <th>9</th>\n",
       "      <th>...</th>\n",
       "      <th>1559</th>\n",
       "      <th>1560</th>\n",
       "      <th>1561</th>\n",
       "      <th>1562</th>\n",
       "      <th>1563</th>\n",
       "      <th>1564</th>\n",
       "      <th>1565</th>\n",
       "      <th>1566</th>\n",
       "      <th>1567</th>\n",
       "      <th>Category</th>\n",
       "    </tr>\n",
       "  </thead>\n",
       "  <tbody>\n",
       "    <tr>\n",
       "      <th>0</th>\n",
       "      <td>111</td>\n",
       "      <td>255</td>\n",
       "      <td>114</td>\n",
       "      <td>255</td>\n",
       "      <td>114</td>\n",
       "      <td>255</td>\n",
       "      <td>113</td>\n",
       "      <td>255</td>\n",
       "      <td>118</td>\n",
       "      <td>255</td>\n",
       "      <td>...</td>\n",
       "      <td>255</td>\n",
       "      <td>66</td>\n",
       "      <td>255</td>\n",
       "      <td>48</td>\n",
       "      <td>255</td>\n",
       "      <td>68</td>\n",
       "      <td>255</td>\n",
       "      <td>48</td>\n",
       "      <td>255</td>\n",
       "      <td>0</td>\n",
       "    </tr>\n",
       "    <tr>\n",
       "      <th>1</th>\n",
       "      <td>113</td>\n",
       "      <td>255</td>\n",
       "      <td>118</td>\n",
       "      <td>255</td>\n",
       "      <td>116</td>\n",
       "      <td>255</td>\n",
       "      <td>117</td>\n",
       "      <td>255</td>\n",
       "      <td>116</td>\n",
       "      <td>255</td>\n",
       "      <td>...</td>\n",
       "      <td>255</td>\n",
       "      <td>42</td>\n",
       "      <td>255</td>\n",
       "      <td>51</td>\n",
       "      <td>255</td>\n",
       "      <td>74</td>\n",
       "      <td>255</td>\n",
       "      <td>86</td>\n",
       "      <td>255</td>\n",
       "      <td>0</td>\n",
       "    </tr>\n",
       "    <tr>\n",
       "      <th>2</th>\n",
       "      <td>163</td>\n",
       "      <td>255</td>\n",
       "      <td>167</td>\n",
       "      <td>255</td>\n",
       "      <td>166</td>\n",
       "      <td>255</td>\n",
       "      <td>168</td>\n",
       "      <td>255</td>\n",
       "      <td>171</td>\n",
       "      <td>255</td>\n",
       "      <td>...</td>\n",
       "      <td>255</td>\n",
       "      <td>74</td>\n",
       "      <td>255</td>\n",
       "      <td>68</td>\n",
       "      <td>255</td>\n",
       "      <td>67</td>\n",
       "      <td>255</td>\n",
       "      <td>102</td>\n",
       "      <td>255</td>\n",
       "      <td>0</td>\n",
       "    </tr>\n",
       "    <tr>\n",
       "      <th>3</th>\n",
       "      <td>110</td>\n",
       "      <td>255</td>\n",
       "      <td>111</td>\n",
       "      <td>255</td>\n",
       "      <td>111</td>\n",
       "      <td>255</td>\n",
       "      <td>108</td>\n",
       "      <td>255</td>\n",
       "      <td>116</td>\n",
       "      <td>255</td>\n",
       "      <td>...</td>\n",
       "      <td>255</td>\n",
       "      <td>101</td>\n",
       "      <td>255</td>\n",
       "      <td>112</td>\n",
       "      <td>255</td>\n",
       "      <td>105</td>\n",
       "      <td>255</td>\n",
       "      <td>107</td>\n",
       "      <td>255</td>\n",
       "      <td>0</td>\n",
       "    </tr>\n",
       "    <tr>\n",
       "      <th>4</th>\n",
       "      <td>114</td>\n",
       "      <td>255</td>\n",
       "      <td>118</td>\n",
       "      <td>255</td>\n",
       "      <td>117</td>\n",
       "      <td>255</td>\n",
       "      <td>117</td>\n",
       "      <td>255</td>\n",
       "      <td>116</td>\n",
       "      <td>255</td>\n",
       "      <td>...</td>\n",
       "      <td>255</td>\n",
       "      <td>92</td>\n",
       "      <td>255</td>\n",
       "      <td>104</td>\n",
       "      <td>255</td>\n",
       "      <td>97</td>\n",
       "      <td>255</td>\n",
       "      <td>103</td>\n",
       "      <td>255</td>\n",
       "      <td>0</td>\n",
       "    </tr>\n",
       "  </tbody>\n",
       "</table>\n",
       "<p>5 rows × 1569 columns</p>\n",
       "</div>"
      ],
      "text/plain": [
       "     0    1    2    3    4    5    6    7    8    9  ...  1559  1560  1561  \\\n",
       "0  111  255  114  255  114  255  113  255  118  255  ...   255    66   255   \n",
       "1  113  255  118  255  116  255  117  255  116  255  ...   255    42   255   \n",
       "2  163  255  167  255  166  255  168  255  171  255  ...   255    74   255   \n",
       "3  110  255  111  255  111  255  108  255  116  255  ...   255   101   255   \n",
       "4  114  255  118  255  117  255  117  255  116  255  ...   255    92   255   \n",
       "\n",
       "   1562  1563  1564  1565  1566  1567  Category  \n",
       "0    48   255    68   255    48   255         0  \n",
       "1    51   255    74   255    86   255         0  \n",
       "2    68   255    67   255   102   255         0  \n",
       "3   112   255   105   255   107   255         0  \n",
       "4   104   255    97   255   103   255         0  \n",
       "\n",
       "[5 rows x 1569 columns]"
      ]
     },
     "execution_count": 4,
     "metadata": {},
     "output_type": "execute_result"
    }
   ],
   "source": [
    "# factorise the result as 0,1,2 and append to the dataframe\n",
    "\n",
    "labels, uniques = pd.factorize(category)\n",
    "\n",
    "print(uniques)\n",
    "\n",
    "df.loc[:, 'Category'] = labels\n",
    "\n",
    "df.head()"
   ]
  },
  {
   "cell_type": "code",
   "execution_count": 5,
   "metadata": {},
   "outputs": [
    {
     "data": {
      "text/html": [
       "<div>\n",
       "<style scoped>\n",
       "    .dataframe tbody tr th:only-of-type {\n",
       "        vertical-align: middle;\n",
       "    }\n",
       "\n",
       "    .dataframe tbody tr th {\n",
       "        vertical-align: top;\n",
       "    }\n",
       "\n",
       "    .dataframe thead th {\n",
       "        text-align: right;\n",
       "    }\n",
       "</style>\n",
       "<table border=\"1\" class=\"dataframe\">\n",
       "  <thead>\n",
       "    <tr style=\"text-align: right;\">\n",
       "      <th></th>\n",
       "      <th>0</th>\n",
       "      <th>1</th>\n",
       "      <th>2</th>\n",
       "      <th>3</th>\n",
       "      <th>4</th>\n",
       "      <th>5</th>\n",
       "      <th>6</th>\n",
       "      <th>7</th>\n",
       "      <th>8</th>\n",
       "      <th>9</th>\n",
       "      <th>...</th>\n",
       "      <th>1559</th>\n",
       "      <th>1560</th>\n",
       "      <th>1561</th>\n",
       "      <th>1562</th>\n",
       "      <th>1563</th>\n",
       "      <th>1564</th>\n",
       "      <th>1565</th>\n",
       "      <th>1566</th>\n",
       "      <th>1567</th>\n",
       "      <th>Category</th>\n",
       "    </tr>\n",
       "  </thead>\n",
       "  <tbody>\n",
       "    <tr>\n",
       "      <th>746</th>\n",
       "      <td>60</td>\n",
       "      <td>255</td>\n",
       "      <td>61</td>\n",
       "      <td>255</td>\n",
       "      <td>61</td>\n",
       "      <td>255</td>\n",
       "      <td>61</td>\n",
       "      <td>255</td>\n",
       "      <td>62</td>\n",
       "      <td>255</td>\n",
       "      <td>...</td>\n",
       "      <td>255</td>\n",
       "      <td>125</td>\n",
       "      <td>255</td>\n",
       "      <td>127</td>\n",
       "      <td>255</td>\n",
       "      <td>120</td>\n",
       "      <td>255</td>\n",
       "      <td>104</td>\n",
       "      <td>255</td>\n",
       "      <td>1</td>\n",
       "    </tr>\n",
       "    <tr>\n",
       "      <th>747</th>\n",
       "      <td>106</td>\n",
       "      <td>255</td>\n",
       "      <td>106</td>\n",
       "      <td>255</td>\n",
       "      <td>104</td>\n",
       "      <td>255</td>\n",
       "      <td>106</td>\n",
       "      <td>255</td>\n",
       "      <td>107</td>\n",
       "      <td>255</td>\n",
       "      <td>...</td>\n",
       "      <td>255</td>\n",
       "      <td>183</td>\n",
       "      <td>255</td>\n",
       "      <td>185</td>\n",
       "      <td>255</td>\n",
       "      <td>182</td>\n",
       "      <td>255</td>\n",
       "      <td>182</td>\n",
       "      <td>255</td>\n",
       "      <td>1</td>\n",
       "    </tr>\n",
       "    <tr>\n",
       "      <th>748</th>\n",
       "      <td>61</td>\n",
       "      <td>255</td>\n",
       "      <td>60</td>\n",
       "      <td>255</td>\n",
       "      <td>59</td>\n",
       "      <td>255</td>\n",
       "      <td>61</td>\n",
       "      <td>255</td>\n",
       "      <td>60</td>\n",
       "      <td>255</td>\n",
       "      <td>...</td>\n",
       "      <td>255</td>\n",
       "      <td>143</td>\n",
       "      <td>255</td>\n",
       "      <td>145</td>\n",
       "      <td>255</td>\n",
       "      <td>148</td>\n",
       "      <td>255</td>\n",
       "      <td>144</td>\n",
       "      <td>255</td>\n",
       "      <td>1</td>\n",
       "    </tr>\n",
       "    <tr>\n",
       "      <th>749</th>\n",
       "      <td>105</td>\n",
       "      <td>255</td>\n",
       "      <td>106</td>\n",
       "      <td>255</td>\n",
       "      <td>104</td>\n",
       "      <td>255</td>\n",
       "      <td>105</td>\n",
       "      <td>255</td>\n",
       "      <td>107</td>\n",
       "      <td>255</td>\n",
       "      <td>...</td>\n",
       "      <td>255</td>\n",
       "      <td>88</td>\n",
       "      <td>255</td>\n",
       "      <td>94</td>\n",
       "      <td>255</td>\n",
       "      <td>120</td>\n",
       "      <td>255</td>\n",
       "      <td>119</td>\n",
       "      <td>255</td>\n",
       "      <td>1</td>\n",
       "    </tr>\n",
       "    <tr>\n",
       "      <th>750</th>\n",
       "      <td>61</td>\n",
       "      <td>255</td>\n",
       "      <td>60</td>\n",
       "      <td>255</td>\n",
       "      <td>61</td>\n",
       "      <td>255</td>\n",
       "      <td>62</td>\n",
       "      <td>255</td>\n",
       "      <td>63</td>\n",
       "      <td>255</td>\n",
       "      <td>...</td>\n",
       "      <td>255</td>\n",
       "      <td>67</td>\n",
       "      <td>255</td>\n",
       "      <td>75</td>\n",
       "      <td>255</td>\n",
       "      <td>53</td>\n",
       "      <td>255</td>\n",
       "      <td>66</td>\n",
       "      <td>255</td>\n",
       "      <td>1</td>\n",
       "    </tr>\n",
       "  </tbody>\n",
       "</table>\n",
       "<p>5 rows × 1569 columns</p>\n",
       "</div>"
      ],
      "text/plain": [
       "       0    1    2    3    4    5    6    7    8    9  ...  1559  1560  1561  \\\n",
       "746   60  255   61  255   61  255   61  255   62  255  ...   255   125   255   \n",
       "747  106  255  106  255  104  255  106  255  107  255  ...   255   183   255   \n",
       "748   61  255   60  255   59  255   61  255   60  255  ...   255   143   255   \n",
       "749  105  255  106  255  104  255  105  255  107  255  ...   255    88   255   \n",
       "750   61  255   60  255   61  255   62  255   63  255  ...   255    67   255   \n",
       "\n",
       "     1562  1563  1564  1565  1566  1567  Category  \n",
       "746   127   255   120   255   104   255         1  \n",
       "747   185   255   182   255   182   255         1  \n",
       "748   145   255   148   255   144   255         1  \n",
       "749    94   255   120   255   119   255         1  \n",
       "750    75   255    53   255    66   255         1  \n",
       "\n",
       "[5 rows x 1569 columns]"
      ]
     },
     "execution_count": 5,
     "metadata": {},
     "output_type": "execute_result"
    }
   ],
   "source": [
    "df.tail()"
   ]
  },
  {
   "cell_type": "markdown",
   "metadata": {},
   "source": [
    "<div class=\"alert alert-info\"> 2. Randomly sample the images to create training sets consisting of 70% of the  images.  Rest 30%  images form the  testing images. (1 point) </div>"
   ]
  },
  {
   "cell_type": "code",
   "execution_count": 6,
   "metadata": {},
   "outputs": [
    {
     "name": "stdout",
     "output_type": "stream",
     "text": [
      "(525, 1568) (226, 1568)\n",
      "(525,) (226,)\n"
     ]
    }
   ],
   "source": [
    "from sklearn.model_selection import train_test_split\n",
    "\n",
    "X_train, X_test, y_train, y_test = train_test_split(df.iloc[:,:-1], df.Category, test_size=0.3,\n",
    "                                                    stratify = df.Category, random_state=0)\n",
    "\n",
    "print(X_train.shape, X_test.shape)\n",
    "print(y_train.shape, y_test.shape)"
   ]
  },
  {
   "cell_type": "markdown",
   "metadata": {},
   "source": [
    "<div class=\"alert alert-info\"> 3A. Create Intensity based features </div>"
   ]
  },
  {
   "cell_type": "markdown",
   "metadata": {},
   "source": [
    "intensity based features are using the X_train and Y_test as such."
   ]
  },
  {
   "cell_type": "code",
   "execution_count": 7,
   "metadata": {},
   "outputs": [
    {
     "name": "stdout",
     "output_type": "stream",
     "text": [
      "(525, 100)\n",
      "(226, 100)\n"
     ]
    }
   ],
   "source": [
    "\n",
    "# PCA based features\n",
    "\n",
    "from sklearn import decomposition\n",
    "\n",
    "pca = decomposition.PCA(n_components=100, whiten=True)\n",
    "pca.fit(X_train)\n",
    "\n",
    "X_train_pca = pca.transform(X_train)\n",
    "X_test_pca = pca.transform(X_test)\n",
    "\n",
    "print(X_train_pca.shape)\n",
    "print(X_test_pca.shape)"
   ]
  },
  {
   "cell_type": "markdown",
   "metadata": {},
   "source": [
    "<div class=\"alert alert-info\"> 3B. Create SVD based features </div>"
   ]
  },
  {
   "cell_type": "code",
   "execution_count": 8,
   "metadata": {},
   "outputs": [
    {
     "name": "stdout",
     "output_type": "stream",
     "text": [
      "(525, 100)\n",
      "(226, 100)\n"
     ]
    }
   ],
   "source": [
    "from sklearn import decomposition\n",
    "\n",
    "svd = decomposition.TruncatedSVD(n_components=100)\n",
    "svd.fit(X_train)\n",
    "\n",
    "X_train_svd = svd.transform(X_train)\n",
    "X_test_svd = svd.transform(X_test)\n",
    "\n",
    "print(X_train_svd.shape)\n",
    "print(X_test_svd.shape)"
   ]
  },
  {
   "cell_type": "markdown",
   "metadata": {},
   "source": [
    "<div class=\"alert alert-info\"> 3C. Naive Bayes Classifier </div>"
   ]
  },
  {
   "cell_type": "code",
   "execution_count": 9,
   "metadata": {},
   "outputs": [
    {
     "name": "stdout",
     "output_type": "stream",
     "text": [
      "GaussianNB(priors=None, var_smoothing=1e-09)\n"
     ]
    }
   ],
   "source": [
    "from sklearn.naive_bayes import GaussianNB\n",
    "\n",
    "GNB = GaussianNB()\n",
    "GNB.fit(X_train, y_train)\n",
    "print(GNB)\n",
    "\n",
    "y_predict = GNB.predict(X_test) "
   ]
  },
  {
   "cell_type": "code",
   "execution_count": 10,
   "metadata": {},
   "outputs": [
    {
     "name": "stdout",
     "output_type": "stream",
     "text": [
      "GaussianNB(priors=None, var_smoothing=1e-09)\n"
     ]
    }
   ],
   "source": [
    "GNBpca = GaussianNB()\n",
    "GNBpca.fit(X_train_pca, y_train)\n",
    "print(GNBpca)\n",
    "\n",
    "y_predict_pca = GNBpca.predict(X_test_pca) "
   ]
  },
  {
   "cell_type": "code",
   "execution_count": 11,
   "metadata": {},
   "outputs": [
    {
     "name": "stdout",
     "output_type": "stream",
     "text": [
      "GaussianNB(priors=None, var_smoothing=1e-09)\n"
     ]
    }
   ],
   "source": [
    "GNBsvd =  GaussianNB()\n",
    "GNBsvd.fit(X_train_svd, y_train)\n",
    "print(GNBsvd)\n",
    "\n",
    "y_predict_svd = GNBsvd.predict(X_test_svd) "
   ]
  },
  {
   "cell_type": "markdown",
   "metadata": {},
   "source": [
    "<div class=\"alert alert-info\"> 4. Logistic Regression Classifier </div>"
   ]
  },
  {
   "cell_type": "code",
   "execution_count": 12,
   "metadata": {},
   "outputs": [],
   "source": [
    "from sklearn.linear_model import LogisticRegression\n",
    "\n",
    "LR = LogisticRegression(solver='liblinear', multi_class = 'auto') # default classfier\n",
    "\n",
    "LR.fit(X_train, y_train)\n",
    "\n",
    "y_prob  = LR.predict(X_test)"
   ]
  },
  {
   "cell_type": "code",
   "execution_count": 13,
   "metadata": {},
   "outputs": [],
   "source": [
    "LRpca = LogisticRegression(solver='liblinear', multi_class = 'auto') # default classfier\n",
    "\n",
    "LRpca.fit(X_train_pca, y_train)\n",
    "\n",
    "y_prob_pca  = LRpca.predict(X_test_pca)"
   ]
  },
  {
   "cell_type": "code",
   "execution_count": 14,
   "metadata": {},
   "outputs": [],
   "source": [
    "LRsvd = LogisticRegression(solver='liblinear', multi_class = 'auto') # default classfier\n",
    "\n",
    "LRsvd.fit(X_train_svd, y_train)\n",
    "\n",
    "y_prob_svd  = LRsvd.predict(X_test_svd)"
   ]
  },
  {
   "cell_type": "markdown",
   "metadata": {},
   "source": [
    "<div class=\"alert alert-info\"> 5A. Accuracy </div>"
   ]
  },
  {
   "cell_type": "code",
   "execution_count": 15,
   "metadata": {},
   "outputs": [
    {
     "name": "stdout",
     "output_type": "stream",
     "text": [
      "     Classifier   Features   Accuracy\n",
      "0   Gaussian NB  Intensity  73.008850\n",
      "1   Gaussian NB        PCA  76.991150\n",
      "2   Gaussian NB        SVD  77.876106\n",
      "3  Logistic Reg  Intensity  88.053097\n",
      "4  Logistic Reg        PCA  87.168142\n",
      "5  Logistic Reg        SVD  84.955752\n"
     ]
    }
   ],
   "source": [
    "from sklearn.metrics import accuracy_score\n",
    "\n",
    "accuracy = pd.DataFrame(columns=['Classifier', 'Features', 'Accuracy'])\n",
    "\n",
    "accuracy.loc[0] = ['Gaussian NB', 'Intensity', accuracy_score(y_test, y_predict)*100]\n",
    "\n",
    "accuracy.loc[1] = ['Gaussian NB', 'PCA', accuracy_score(y_test, y_predict_pca)*100]\n",
    "\n",
    "accuracy.loc[2] = ['Gaussian NB', 'SVD', accuracy_score(y_test, y_predict_svd)*100]\n",
    "\n",
    "accuracy.loc[3] = ['Logistic Reg', 'Intensity', accuracy_score(y_test, y_prob)*100]\n",
    "\n",
    "accuracy.loc[4] = ['Logistic Reg', 'PCA', accuracy_score(y_test, y_prob_pca)*100]\n",
    "\n",
    "accuracy.loc[5] = ['Logistic Reg', 'SVD', accuracy_score(y_test, y_prob_svd)*100]\n",
    "\n",
    "print(accuracy)"
   ]
  },
  {
   "cell_type": "markdown",
   "metadata": {},
   "source": [
    "<div class=\"alert alert-info\"> 5B. Confusion Matrix </div>"
   ]
  },
  {
   "cell_type": "code",
   "execution_count": 16,
   "metadata": {},
   "outputs": [
    {
     "name": "stdout",
     "output_type": "stream",
     "text": [
      "Confusion Matrix Gaussian NB Intensity:\n",
      "[[89 26]\n",
      " [35 76]]\n",
      "Confusion Matrix Gaussian NB PCA:\n",
      "[[110   5]\n",
      " [ 47  64]]\n",
      "Confusion Matrix Gaussian NB SVD:\n",
      "[[111   4]\n",
      " [ 46  65]]\n",
      "Confusion Matrix Logistic Regression Intensity:\n",
      "[[107   8]\n",
      " [ 19  92]]\n",
      "Confusion Matrix Logistic Regression PCA:\n",
      "[[104  11]\n",
      " [ 18  93]]\n",
      "Confusion Matrix Logistic Regression SVD:\n",
      "[[102  13]\n",
      " [ 21  90]]\n"
     ]
    }
   ],
   "source": [
    "from sklearn.metrics import confusion_matrix \n",
    "\n",
    "conf_matrix = confusion_matrix(y_test, y_predict) \n",
    "print('Confusion Matrix Gaussian NB Intensity:', )\n",
    "print(conf_matrix)\n",
    "\n",
    "conf_matrix = confusion_matrix(y_test, y_predict_pca) \n",
    "print('Confusion Matrix Gaussian NB PCA:', )\n",
    "print(conf_matrix)\n",
    "\n",
    "conf_matrix = confusion_matrix(y_test, y_predict_svd) \n",
    "print('Confusion Matrix Gaussian NB SVD:', )\n",
    "print(conf_matrix)\n",
    "\n",
    "conf_matrix = confusion_matrix(y_test, y_prob) \n",
    "print('Confusion Matrix Logistic Regression Intensity:', )\n",
    "print(conf_matrix)\n",
    "\n",
    "conf_matrix = confusion_matrix(y_test, y_prob_pca) \n",
    "print('Confusion Matrix Logistic Regression PCA:', )\n",
    "print(conf_matrix)\n",
    "\n",
    "conf_matrix = confusion_matrix(y_test, y_prob_svd) \n",
    "print('Confusion Matrix Logistic Regression SVD:', )\n",
    "print(conf_matrix)"
   ]
  },
  {
   "cell_type": "markdown",
   "metadata": {},
   "source": [
    "<div class=\"alert alert-info\"> 6. Compare the performance of the  above classifiers and report your observations. (2 points) </div>"
   ]
  },
  {
   "cell_type": "markdown",
   "metadata": {},
   "source": [
    "From the reported accuracies,\n",
    "\n",
    "Logistic Regression is better than Gaussian Naive Bayes Classifier .\n",
    "\n",
    "When using Gaussian Naive Bayes  classifier SVD gives a better accuracy."
   ]
  }
 ],
 "metadata": {
  "kernelspec": {
   "display_name": "Python 3",
   "language": "python",
   "name": "python3"
  },
  "language_info": {
   "codemirror_mode": {
    "name": "ipython",
    "version": 3
   },
   "file_extension": ".py",
   "mimetype": "text/x-python",
   "name": "python",
   "nbconvert_exporter": "python",
   "pygments_lexer": "ipython3",
   "version": "3.7.3"
  }
 },
 "nbformat": 4,
 "nbformat_minor": 2
}
