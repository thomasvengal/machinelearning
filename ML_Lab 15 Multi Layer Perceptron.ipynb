{
 "cells": [
  {
   "cell_type": "markdown",
   "metadata": {},
   "source": [
    "# Multi Layer Perceptron\n",
    "\n",
    "This exercise gives an implementation of a multi layer perceptron.\n",
    "\n",
    "Multi layer Perceptron\n",
    "    - Input layers, output layers and hidden layers.\n",
    "    - It uses step function as activation function.\n",
    "    - Delta Learning rule is used to update the weights and bias.\n",
    "\n",
    " \n",
    "Ref: Neural Networks and Deep Learning (deeplearning.ai) by Andrew Ng, Adjunct Professor, Stanford University @ Coursera.\n"
   ]
  },
  {
   "cell_type": "markdown",
   "metadata": {},
   "source": [
    "## 1. Import the necessary libraries"
   ]
  },
  {
   "cell_type": "code",
   "execution_count": 1,
   "metadata": {},
   "outputs": [],
   "source": [
    "import numpy as np\n",
    "import matplotlib.pyplot as plt\n",
    "import matplotlib\n",
    "\n",
    "%matplotlib inline\n"
   ]
  },
  {
   "cell_type": "markdown",
   "metadata": {},
   "source": [
    "## 2 - Perceptron model\n",
    "\n",
    "\n",
    " ![title](images/MLP.png)\n",
    " \n",
    "**Mathematically**:\n",
    "\n",
    "For one example $x^{(i)}$:\n",
    "$$z^{(i)} =  W x^{(i)} + b  \\tag{1}$$ \n",
    "\n",
    "$$a^{(i)} = activation(z^{(i)})\\tag{2}$$\n",
    "\n",
    "The activation function used in Perceptron is given as:\n",
    "\n",
    "$$a^{(i)} = \\begin{cases} 1 & \\mbox{if } z(i) > 0 \\\\ 0 & \\mbox{otherwise } \\end{cases}\\tag{3}$$\n",
    "                     \n",
    "\n",
    "Given the predictions on all the examples, you can also compute the cost $J$ as follows: \n",
    "$$J = \\sum\\limits_{i = 0}^{m} \\left((y^{(i)} - a^{(i)}) * x^{(i)} \\right)  \\small \\tag{3}$$\n",
    "\n",
    "The updation of parameters is performed using the Perceptron Learning rule as follows:\n",
    "$$ w = w + \\alpha * J \\tag{4}$$\n",
    "$$ b = b + \\alpha * J \\tag{4}$$\n",
    "\n",
    "**Methodology**: \n",
    "\n",
    "The general methodology to build a Neural Network is to:\n",
    "    1. Define the neural network structure ( # of input units,  # of hidden units, etc). \n",
    "    2. Initialize the model's parameters\n",
    "    3. Loop:\n",
    "        - Implement forward propagation\n",
    "        - Compute loss\n",
    "        - Update parameters (Perceptron Learning rule)\n"
   ]
  },
  {
   "cell_type": "markdown",
   "metadata": {},
   "source": [
    "### (a) Define the neural network structure"
   ]
  },
  {
   "cell_type": "code",
   "execution_count": 2,
   "metadata": {},
   "outputs": [],
   "source": [
    "# Define the neural network structure -- layer sizes\n",
    "\n",
    "def initialize_sizes(X, Y):\n",
    "    n_x = X.shape[1]\n",
    "    n_h = X.shape[1] + 1 #  my assumption\n",
    "    n_y = Y.shape[1]\n",
    "    size = {'n_x': n_x,\n",
    "            'n_h': n_h,\n",
    "            'n_y': n_y}\n",
    "    return size"
   ]
  },
  {
   "cell_type": "markdown",
   "metadata": {},
   "source": [
    "### (b) Initialize the model's parameters"
   ]
  },
  {
   "cell_type": "code",
   "execution_count": 3,
   "metadata": {},
   "outputs": [],
   "source": [
    "# initialize parameters or weights\n",
    "\n",
    "def initialize_parameter(size):\n",
    "    n_x = size['n_x']\n",
    "    n_h = size['n_h']\n",
    "    n_y = size['n_y']\n",
    "    W1 = np.random.randn(n_x, n_h) * 0.01\n",
    "    b1 = np.random.randn(1,n_h) \n",
    "    W2 = np.random.randn(n_h, n_y) * 0.01\n",
    "    b2 = np.random.randn(1,n_y)\n",
    "    parameters = {'W1': W1,\n",
    "                  'b1': b1,\n",
    "                  'W2': W2,\n",
    "                  'b2': b2 }\n",
    "    return parameters"
   ]
  },
  {
   "cell_type": "markdown",
   "metadata": {},
   "source": [
    "### (c) Loop:  forward propagation,  Compute loss,  Update parameters"
   ]
  },
  {
   "cell_type": "code",
   "execution_count": 4,
   "metadata": {},
   "outputs": [],
   "source": [
    "# forward propagation\n",
    "\n",
    "# z = w*x\n",
    "# a = activation()\n",
    "# use heaviside for step function\n",
    "# cost = sum( (y-a) * x )\n",
    "# w = w + learning rate * cost\n",
    "\n",
    "\n",
    "def forward_propagation(X, Y, parameters):\n",
    "    # loop\n",
    "    learning_rate = 0.00009\n",
    "    cost_history = []\n",
    "    W1 = parameters['W1']\n",
    "    b1 = parameters['b1']\n",
    "    W2 = parameters['W2']\n",
    "    b2 = parameters['b2']\n",
    "\n",
    "    # loop\n",
    "    for i in range(0, 100000):\n",
    "        # Implement Forward Propagation to calculate actiation A (probabilites)\n",
    "        Z1 = np.dot(X, W1) + b1\n",
    "        A1 = np.heaviside(Z1, 0)\n",
    "        Z2 = np.dot(A1, W2) + b2\n",
    "        A2 = np.heaviside(Z2, 0)\n",
    "\n",
    "        # compute cost\n",
    "        #logprobs = np.multiply( Y-A2, X)\n",
    "        cost = np.sum(Y-A2)\n",
    "        float(np.squeeze(cost))\n",
    "        cost_history.append(cost)\n",
    "\n",
    "        # update weights\n",
    "\n",
    "        W1 = W1 + learning_rate * cost\n",
    "        b1 = b1 + learning_rate * cost\n",
    "        W2 = W2 + learning_rate * cost\n",
    "        b2 = b2 + learning_rate * cost\n",
    "\n",
    "    cache = {'A': A2,\n",
    "             'cost_history' : cost_history,\n",
    "             'W1': W1,\n",
    "             'b1': b1,\n",
    "             'W2': W2,\n",
    "             'b2': b2}\n",
    "        \n",
    "    return cache\n"
   ]
  },
  {
   "cell_type": "code",
   "execution_count": 5,
   "metadata": {},
   "outputs": [],
   "source": [
    "def predict(X, parameters):\n",
    "    \n",
    "    # Computes probabilities using forward propagation\n",
    "    W1 = parameters['W1']\n",
    "    b1 = parameters['b1']\n",
    "    W2 = parameters['W2']\n",
    "    b2 = parameters['b2']\n",
    "\n",
    "    Z1 = np.dot(X, W1) + b1\n",
    "    A1 = np.heaviside(Z1, 0)\n",
    "    Z2 = np.dot(A1, W2) + b2\n",
    "    A2 = np.heaviside(Z2, 0)\n",
    "\n",
    "    # Classify to 0/1 using 0.5 as the threshold.\n",
    "    predictions = np.where(A2 < 0.5, 0, 1)\n",
    "    \n",
    "    return predictions"
   ]
  },
  {
   "cell_type": "markdown",
   "metadata": {},
   "source": [
    "### (d) Visualization"
   ]
  },
  {
   "cell_type": "code",
   "execution_count": 6,
   "metadata": {},
   "outputs": [],
   "source": [
    "# visualise the input \n",
    "def visualize(X, Y):\n",
    "    colors = (\"red\", \"blue\")\n",
    "    labels = Y.flatten()\n",
    "    plt.scatter(X[:, 0], X[:, 1], alpha=0.8, c=labels, \n",
    "                cmap = matplotlib.colors.ListedColormap(colors) )\n",
    "    plt.title('Scatter plot')\n",
    "    plt.xlabel('X 1')\n",
    "    plt.ylabel('X 2')\n",
    "    plt.xticks([0,1])\n",
    "    plt.yticks(np.arange(0, 1.1, step=1))\n",
    "    plt.show()"
   ]
  },
  {
   "cell_type": "code",
   "execution_count": 7,
   "metadata": {},
   "outputs": [],
   "source": [
    "# visualize the predicted values and the decision boundary\n",
    "def decision_boundary(X, Y, parameters): \n",
    "    W2 = parameters['W2']\n",
    "    b2 = parameters['b2']\n",
    "    colors = (\"red\", \"blue\")\n",
    "    \n",
    "    x_min, x_max = X[:, 0].min() - 1, X[:, 0].max() + 1\n",
    "    y_min, y_max = X[:, 1].min() - 1, X[:, 1].max() + 1\n",
    "\n",
    "    h = .02  # step size in the mesh\n",
    "\n",
    "    xx, yy = np.meshgrid(np.arange(x_min, x_max, h), np.arange(y_min, y_max, h))\n",
    "    Z = predict(np.c_[xx.ravel(), yy.ravel()], parameters)\n",
    "\n",
    "    # Put the result into a color plot\n",
    "    Z = Z.reshape(xx.shape)\n",
    "\n",
    "    plt.figure(1, figsize=(4, 3))\n",
    "    plt.pcolormesh(xx, yy, Z, cmap=plt.cm.Paired)\n",
    "\n",
    "    # Plot also the training points\n",
    "    plt.scatter(X[:, 0], X[:, 1], c=Y.flatten(), edgecolors='k', \n",
    "                cmap = matplotlib.colors.ListedColormap(colors))\n",
    "\n",
    "    plt.xlim(xx.min(), xx.max())\n",
    "    plt.ylim(yy.min(), yy.max())\n",
    "    plt.xticks(())\n",
    "    plt.yticks(())\n",
    "    plt.title('Scatter plot')\n",
    "    plt.xlabel('X 1')\n",
    "    plt.ylabel('X 2')\n",
    "    plt.show()"
   ]
  },
  {
   "cell_type": "code",
   "execution_count": 8,
   "metadata": {},
   "outputs": [],
   "source": [
    "# plot the cost function \n",
    "def plot_cost_function(result):\n",
    "    plt.plot(result['cost_history'])\n",
    "    plt.title('Cost Function')\n",
    "    plt.xlabel(\"Number of iterations\") \n",
    "    plt.ylabel(\"Cost\") \n",
    "    plt.show()"
   ]
  },
  {
   "cell_type": "markdown",
   "metadata": {},
   "source": [
    "## 3. Implementation of OR gate"
   ]
  },
  {
   "cell_type": "code",
   "execution_count": 9,
   "metadata": {},
   "outputs": [
    {
     "data": {
      "image/png": "[encoded data removed]",
      "text/plain": [
       "<Figure size 432x288 with 1 Axes>"
      ]
     },
     "metadata": {
      "needs_background": "light"
     },
     "output_type": "display_data"
    }
   ],
   "source": [
    "# This example is an implementation of OR gate\n",
    "\n",
    "# Number of input neurons = 2\n",
    "# Number of output neurons = 1\n",
    "\n",
    "# Training input sample\n",
    "X = np.array([[0,0],\n",
    "            [0,1],\n",
    "            [1,0],\n",
    "            [1,1]])\n",
    "\n",
    "# Training output sample\n",
    "Y = np.array([[0],[1],[1],[1]])\n",
    "\n",
    "visualize(X,Y)"
   ]
  },
  {
   "cell_type": "code",
   "execution_count": 21,
   "metadata": {},
   "outputs": [
    {
     "name": "stdout",
     "output_type": "stream",
     "text": [
      "Before training\n",
      "{'n_x': 2, 'n_h': 3, 'n_y': 1}\n",
      "W1 =  [[ 0.00817851 -0.01071794  0.01088154]\n",
      " [-0.01369053 -0.00877931  0.0091029 ]]\n",
      "b1 =  [[-0.88509566 -0.17961688 -0.63969065]]\n",
      "W2 =  [[0.00141283]\n",
      " [0.02213335]\n",
      " [0.01085596]]\n",
      "b2 =  [[-1.52591725]]\n",
      "\n",
      " Training... \n",
      "\n",
      "After training\n",
      "A =  [[0.]\n",
      " [1.]\n",
      " [1.]\n",
      " [1.]]\n",
      "W1 =  [[0.45763851 0.43874206 0.46034154]\n",
      " [0.43576947 0.44068069 0.4585629 ]]\n",
      "b1 =  [[-0.43563566  0.26984312 -0.19023065]]\n",
      "W2 =  [[0.45087283]\n",
      " [0.47159335]\n",
      " [0.46031596]]\n",
      "b2 =  [[-1.07645725]]\n"
     ]
    }
   ],
   "source": [
    "print('Before training')\n",
    "size = initialize_sizes(X, Y)\n",
    "print(size)\n",
    "\n",
    "weights = initialize_parameter(size)\n",
    "print('W1 = ', weights['W1'])\n",
    "print('b1 = ', weights['b1'])\n",
    "print('W2 = ', weights['W2'])\n",
    "print('b2 = ', weights['b2'])\n",
    "\n",
    "\n",
    "print('\\n Training... \\n')\n",
    "result = forward_propagation(X, Y, weights)\n",
    "\n",
    "print('After training')\n",
    "print('A = ', result['A'])\n",
    "print('W1 = ', result['W1'])\n",
    "print('b1 = ', result['b1'])\n",
    "print('W2 = ', result['W2'])\n",
    "print('b2 = ', result['b2'])"
   ]
  },
  {
   "cell_type": "code",
   "execution_count": 22,
   "metadata": {},
   "outputs": [
    {
     "data": {
      "image/png": "[encoded data removed]",
      "text/plain": [
       "<Figure size 288x216 with 1 Axes>"
      ]
     },
     "metadata": {},
     "output_type": "display_data"
    },
    {
     "data": {
      "image/png": "[encoded data removed]",
      "text/plain": [
       "<Figure size 432x288 with 1 Axes>"
      ]
     },
     "metadata": {
      "needs_background": "light"
     },
     "output_type": "display_data"
    }
   ],
   "source": [
    "# Visualization of decision boundary and loss function\n",
    "decision_boundary(X, Y, result)\n",
    "plot_cost_function(result)"
   ]
  },
  {
   "cell_type": "code",
   "execution_count": 23,
   "metadata": {},
   "outputs": [
    {
     "name": "stdout",
     "output_type": "stream",
     "text": [
      "100.0\n"
     ]
    }
   ],
   "source": [
    "# Compute accuracy\n",
    "\n",
    "accuracy = np.mean( result['A'].flatten() == Y.flatten() )\n",
    "\n",
    "print(accuracy * 100)"
   ]
  },
  {
   "cell_type": "markdown",
   "metadata": {},
   "source": [
    "# Implementation of XOR"
   ]
  },
  {
   "cell_type": "code",
   "execution_count": 13,
   "metadata": {},
   "outputs": [
    {
     "data": {
      "image/png": "[encoded data removed]",
      "text/plain": [
       "<Figure size 432x288 with 1 Axes>"
      ]
     },
     "metadata": {
      "needs_background": "light"
     },
     "output_type": "display_data"
    }
   ],
   "source": [
    "# This example is an implementation of XOR gate\n",
    "\n",
    "# Number of input neurons = 2\n",
    "# Number of output neurons = 1\n",
    "\n",
    "# Training input sample\n",
    "xor_X = np.array([[0,0],\n",
    "            [0,1],\n",
    "            [1,0],\n",
    "            [1,1]])\n",
    "\n",
    "# Training output sample\n",
    "xor_Y = np.array([[0],[1],[1],[0]])\n",
    "\n",
    "visualize(xor_X, xor_Y)"
   ]
  },
  {
   "cell_type": "code",
   "execution_count": 14,
   "metadata": {},
   "outputs": [
    {
     "name": "stdout",
     "output_type": "stream",
     "text": [
      "Before training\n",
      "{'n_x': 2, 'n_h': 3, 'n_y': 1}\n",
      "W1 =  [[-0.01408711 -0.00402671 -0.00736355]\n",
      " [ 0.0059159  -0.02272599 -0.00607893]]\n",
      "b1 =  [[ 0.45077007 -2.30699395  0.23055666]]\n",
      "W2 =  [[0.0050412 ]\n",
      " [0.01042145]\n",
      " [0.01515621]]\n",
      "b2 =  [[-0.68636596]]\n",
      "\n",
      " Training... \n",
      "\n",
      "After training\n",
      "A =  [[0.]\n",
      " [0.]\n",
      " [0.]\n",
      " [0.]]\n",
      "W1 =  [[0.20803289 0.21809329 0.21475645]\n",
      " [0.2280359  0.19939401 0.21604107]]\n",
      "b1 =  [[ 0.67289007 -2.08487395  0.45267666]]\n",
      "W2 =  [[0.2271612 ]\n",
      " [0.23254145]\n",
      " [0.23727621]]\n",
      "b2 =  [[-0.46424596]]\n"
     ]
    }
   ],
   "source": [
    "print('Before training')\n",
    "xor_size = initialize_sizes(xor_X, xor_Y)\n",
    "print(xor_size)\n",
    "\n",
    "xor_weights = initialize_parameter(xor_size)\n",
    "print('W1 = ', xor_weights['W1'])\n",
    "print('b1 = ', xor_weights['b1'])\n",
    "print('W2 = ', xor_weights['W2'])\n",
    "print('b2 = ', xor_weights['b2'])\n",
    "\n",
    "print('\\n Training... \\n')\n",
    "xor_result = forward_propagation(xor_X, xor_Y, xor_weights)\n",
    "\n",
    "print('After training')\n",
    "print('A = ', xor_result['A'])\n",
    "print('W1 = ', xor_result['W1'])\n",
    "print('b1 = ', xor_result['b1'])\n",
    "print('W2 = ', xor_result['W2'])\n",
    "print('b2 = ', xor_result['b2'])"
   ]
  },
  {
   "cell_type": "code",
   "execution_count": 15,
   "metadata": {},
   "outputs": [
    {
     "name": "stdout",
     "output_type": "stream",
     "text": [
      "50.0\n"
     ]
    }
   ],
   "source": [
    "# Compute accuracy\n",
    "\n",
    "accuracy = np.mean( xor_result['A'].flatten() == xor_Y.flatten() )\n",
    "\n",
    "print(accuracy * 100)"
   ]
  },
  {
   "cell_type": "code",
   "execution_count": 16,
   "metadata": {},
   "outputs": [
    {
     "data": {
      "image/png": "[encoded data removed]",
      "text/plain": [
       "<Figure size 288x216 with 1 Axes>"
      ]
     },
     "metadata": {},
     "output_type": "display_data"
    },
    {
     "data": {
      "image/png": "[encoded data removed]",
      "text/plain": [
       "<Figure size 432x288 with 1 Axes>"
      ]
     },
     "metadata": {
      "needs_background": "light"
     },
     "output_type": "display_data"
    }
   ],
   "source": [
    "# Visualization of decision boundary and loss function\n",
    "decision_boundary(xor_X, xor_Y, xor_result)\n",
    "plot_cost_function(xor_result)"
   ]
  }
 ],
 "metadata": {
  "kernelspec": {
   "display_name": "Python 3",
   "language": "python",
   "name": "python3"
  },
  "language_info": {
   "codemirror_mode": {
    "name": "ipython",
    "version": 3
   },
   "file_extension": ".py",
   "mimetype": "text/x-python",
   "name": "python",
   "nbconvert_exporter": "python",
   "pygments_lexer": "ipython3",
   "version": "3.7.3"
  }
 },
 "nbformat": 4,
 "nbformat_minor": 2
}
