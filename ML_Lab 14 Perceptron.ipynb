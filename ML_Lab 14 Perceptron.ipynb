{
 "cells": [
  {
   "cell_type": "markdown",
   "metadata": {},
   "source": [
    "# Perceptron\n",
    "\n",
    "This exercise gives an implementation of a perceptron.\n",
    "\n",
    "Perceptron\n",
    "    - A perceptron has only input layers and output layers.\n",
    "    - No hidden layers.\n",
    "    - It uses step function as activation function.\n",
    "    - Perceptron output is +1 or -1. \n",
    "    - Perceptron Learning rule is used to update the weights and bias.\n",
    "\n"
   ]
  },
  {
   "cell_type": "markdown",
   "metadata": {},
   "source": [
    "## 1. Import the necessary libraries"
   ]
  },
  {
   "cell_type": "code",
   "execution_count": 1,
   "metadata": {},
   "outputs": [],
   "source": [
    "import numpy as np\n",
    "import matplotlib.pyplot as plt\n",
    "import matplotlib\n",
    "\n",
    "%matplotlib inline\n"
   ]
  },
  {
   "cell_type": "markdown",
   "metadata": {},
   "source": [
    "## 2 - Perceptron model\n",
    "\n",
    " ![title](images/Perceptron.png)\n",
    " \n",
    "**Mathematically**:\n",
    "\n",
    "For one example $x^{(i)}$:\n",
    "$$z^{(i)} =  W x^{(i)} + b  \\tag{1}$$ \n",
    "\n",
    "The activation function used in Perceptron is given as:\n",
    "\n",
    "$$a^{(i)} = \\begin{cases} 1 & \\mbox{if } z(i) \\ge 0 \\\\ -1 & \\mbox{if } z(i) < 0   \\end{cases}\\tag{2}$$\n",
    "\n",
    "Given the predictions on all the examples, you can also compute the cost $J$ as follows: \n",
    "$$J = \\frac{1}{m} \\sum\\limits_{i = 1}^{m}  \\max \\left( 0, - y^{(i)} x^{(i)} W \\right)  \\small \\tag{3}$$\n",
    "\n",
    "\n",
    "The updation of parameters is performed using the Perceptron Learning rule as follows:\n",
    "\n",
    "If $x^{(i)}$ is misclassified\n",
    "$$ W = W - \\frac{\\alpha}{2}  \\sum\\limits_{i = 1}^{m}\\left(a^{(i)} - y^{(i)}\\right) x^{(i)} \\tag{4}$$\n",
    "$$ b = b - \\frac{\\alpha}{2}  \\sum\\limits_{i = 1}^{m}\\left(a^{(i)} - y^{(i)}\\right)  \\tag{5}$$\n",
    "\n",
    "**Methodology**: \n",
    "\n",
    "The general methodology to build a Neural Network is to:\n",
    "    1. Define the neural network structure ( # of input units,  # of hidden units, etc). \n",
    "    2. Initialize the model's parameters\n",
    "    3. Loop:\n",
    "        - Implement forward propagation\n",
    "        - Compute loss\n",
    "        - Update parameters (Perceptron Learning rule)\n"
   ]
  },
  {
   "cell_type": "markdown",
   "metadata": {},
   "source": [
    "### (a) Define the neural network structure"
   ]
  },
  {
   "cell_type": "code",
   "execution_count": 2,
   "metadata": {},
   "outputs": [],
   "source": [
    "# Define the neural network structure -- layer sizes\n",
    "\n",
    "def initialize_sizes(X, Y):\n",
    "    n_x = X.shape[1]\n",
    "    # number for hidden layer = 0 for a perceptron\n",
    "    n_y = Y.shape[1]\n",
    "    size = {'n_x': n_x,\n",
    "            'n_y': n_y}\n",
    "    return size"
   ]
  },
  {
   "cell_type": "markdown",
   "metadata": {},
   "source": [
    "### (b) Initialize the model's parameters"
   ]
  },
  {
   "cell_type": "code",
   "execution_count": 3,
   "metadata": {},
   "outputs": [],
   "source": [
    "# initialize parameters or weights\n",
    "\n",
    "def initialize_parameter(size):\n",
    "    n_x = size['n_x']\n",
    "    n_y = size['n_y']\n",
    "    W = np.zeros((n_x, n_y))\n",
    "    b = np.zeros((n_y, 1)) \n",
    "    parameters = {\"W\": W,\n",
    "                  \"b\": b}\n",
    "    return parameters"
   ]
  },
  {
   "cell_type": "markdown",
   "metadata": {},
   "source": [
    "### (c) Loop:  forward propagation,  Compute loss,  Update parameters"
   ]
  },
  {
   "cell_type": "code",
   "execution_count": 4,
   "metadata": {},
   "outputs": [],
   "source": [
    "# forward propagation\n",
    "\n",
    "\n",
    "def forward_propagation(X, Y, parameters, iterations):\n",
    "    learning_rate = 0.1\n",
    "    cost_history = []\n",
    "    W = parameters['W']\n",
    "    b = parameters['b']\n",
    "    m = X.shape[0]\n",
    "    \n",
    "    # loop\n",
    "    for i in range(1, iterations):\n",
    "        # Implement Forward Propagation to calculate actiation A (probabilites)\n",
    "        Z = np.dot(X, W) + b\n",
    "        A = np.sign(Z)\n",
    "        \n",
    "        # compute cost\n",
    "        prod = np.multiply( A,Y )\n",
    "        maximum = np.maximum(prod, 0)\n",
    "        cost = np.sum(maximum) * (-1/m)\n",
    "        float(np.squeeze(cost))\n",
    "        cost_history.append(cost)\n",
    "        \n",
    "        # update weights\n",
    "        # if cost <= 0 :\n",
    "        W = W - learning_rate /2 * np.dot(X.T, A-Y)\n",
    "        b = b - learning_rate /2 * np.sum(A-Y)\n",
    "\n",
    "        cache = {'A': A,\n",
    "                 'cost_history' : cost_history,\n",
    "                 'W': W,\n",
    "                 'b': b}\n",
    "        \n",
    "    return cache\n"
   ]
  },
  {
   "cell_type": "markdown",
   "metadata": {},
   "source": [
    "### (d) Visualization"
   ]
  },
  {
   "cell_type": "code",
   "execution_count": 5,
   "metadata": {},
   "outputs": [],
   "source": [
    "# visualise the input \n",
    "def visualize(X, Y):\n",
    "    colors = (\"red\", \"blue\")\n",
    "    labels = Y.flatten()\n",
    "    plt.scatter(X[:, 0], X[:, 1], alpha=0.8, c=labels, \n",
    "                cmap = matplotlib.colors.ListedColormap(colors) )\n",
    "    plt.title('Scatter plot')\n",
    "    plt.xlabel('X 1')\n",
    "    plt.ylabel('X 2')\n",
    "    plt.xticks([0,1])\n",
    "    plt.yticks(np.arange(0, 1.1, step=1))\n",
    "    plt.show()"
   ]
  },
  {
   "cell_type": "code",
   "execution_count": 6,
   "metadata": {},
   "outputs": [],
   "source": [
    "# visualize the predicted values and the decision boundary\n",
    "\n",
    "def decision_boundary(X, Y, parameters): \n",
    "    A = parameters['A']\n",
    "    W = parameters['W']\n",
    "    b = parameters['b']\n",
    "    \n",
    "    # plot the data points\n",
    "    plt.scatter(X[:, 0], X[:, 1], alpha=1, c=Y.flatten(), cmap=plt.cm.rainbow)\n",
    "\n",
    "    # decision boundary line\n",
    "    n=20\n",
    "    x = np.linspace(-0.1, +1, num=n).reshape(n,1)      \n",
    "    #print(x)\n",
    "    y = -(np.dot(x, W[0]/W[1]) + b /W[1]).T\n",
    "    #print(y)\n",
    "    plt.plot(x, y, c='green', label='Decision boundary')\n",
    "\n",
    "\n",
    "    plt.title('Scatter plot')\n",
    "    plt.xlabel('X 1')\n",
    "    plt.ylabel('X 2')\n",
    "    plt.show()\n"
   ]
  },
  {
   "cell_type": "code",
   "execution_count": 7,
   "metadata": {},
   "outputs": [],
   "source": [
    "# plot the cost function \n",
    "def plot_cost_function(result):\n",
    "    plt.plot(result['cost_history'])\n",
    "    plt.title('Cost Function')\n",
    "    plt.xlabel(\"Number of iterations\") \n",
    "    plt.ylabel(\"Cost\") \n",
    "    plt.show()"
   ]
  },
  {
   "cell_type": "markdown",
   "metadata": {},
   "source": [
    "## 3. Implementation of OR gate"
   ]
  },
  {
   "cell_type": "code",
   "execution_count": 8,
   "metadata": {},
   "outputs": [
    {
     "data": {
      "image/png": "[encoded data removed]",
      "text/plain": [
       "<Figure size 432x288 with 1 Axes>"
      ]
     },
     "metadata": {
      "needs_background": "light"
     },
     "output_type": "display_data"
    }
   ],
   "source": [
    "# This example is an implementation of OR gate\n",
    "\n",
    "# Number of input neurons = 2\n",
    "# Number of output neurons = 1\n",
    "\n",
    "# Training input sample\n",
    "X = np.array([[0,0],\n",
    "            [0,1],\n",
    "            [1,0],\n",
    "            [1,1]])\n",
    "\n",
    "# Training output sample\n",
    "# output represented as <-1,1,1,1>\n",
    "\n",
    "Y = np.array([[-1],[1],[1],[1]])\n",
    "\n",
    "visualize(X,Y)"
   ]
  },
  {
   "cell_type": "code",
   "execution_count": 9,
   "metadata": {},
   "outputs": [
    {
     "name": "stdout",
     "output_type": "stream",
     "text": [
      "Before training\n",
      "{'n_x': 2, 'n_y': 1}\n",
      "W =  [[0.]\n",
      " [0.]]\n",
      "b =  [[0.]]\n",
      "\n",
      " Training... \n",
      "\n",
      "After training\n",
      "A =  [[-1.]\n",
      " [ 1.]\n",
      " [ 1.]\n",
      " [ 1.]]\n",
      "W =  [[0.1]\n",
      " [0.1]]\n",
      "b =  [[-0.05]]\n"
     ]
    }
   ],
   "source": [
    "print('Before training')\n",
    "size = initialize_sizes(X, Y)\n",
    "print(size)\n",
    "\n",
    "weights = initialize_parameter(size)\n",
    "print('W = ', weights['W'])\n",
    "print('b = ', weights['b'])\n",
    "\n",
    "print('\\n Training... \\n')\n",
    "result = forward_propagation(X, Y, weights, 100)\n",
    "\n",
    "print('After training')\n",
    "print('A = ', result['A'])\n",
    "print('W = ', result['W'])\n",
    "print('b = ', result['b'])"
   ]
  },
  {
   "cell_type": "code",
   "execution_count": 10,
   "metadata": {},
   "outputs": [
    {
     "data": {
      "image/png": "[encoded data removed]",
      "text/plain": [
       "<Figure size 432x288 with 1 Axes>"
      ]
     },
     "metadata": {
      "needs_background": "light"
     },
     "output_type": "display_data"
    },
    {
     "data": {
      "image/png": "[encoded data removed]",
      "text/plain": [
       "<Figure size 432x288 with 1 Axes>"
      ]
     },
     "metadata": {
      "needs_background": "light"
     },
     "output_type": "display_data"
    }
   ],
   "source": [
    "# Visualization of decision boundary and loss function\n",
    "decision_boundary(X, Y, result)\n",
    "plot_cost_function(result)"
   ]
  },
  {
   "cell_type": "code",
   "execution_count": 11,
   "metadata": {},
   "outputs": [
    {
     "name": "stdout",
     "output_type": "stream",
     "text": [
      "100.0\n"
     ]
    }
   ],
   "source": [
    "# Compute accuracy\n",
    "\n",
    "accuracy = np.mean( result['A'].flatten() == Y.flatten() )\n",
    "\n",
    "print(accuracy * 100)"
   ]
  },
  {
   "cell_type": "markdown",
   "metadata": {},
   "source": [
    "# Perceptron implementation of XOR"
   ]
  },
  {
   "cell_type": "code",
   "execution_count": 12,
   "metadata": {},
   "outputs": [
    {
     "data": {
      "image/png": "[encoded data removed]",
      "text/plain": [
       "<Figure size 432x288 with 1 Axes>"
      ]
     },
     "metadata": {
      "needs_background": "light"
     },
     "output_type": "display_data"
    }
   ],
   "source": [
    "# This example is an implementation of XOR gate\n",
    "\n",
    "# Number of input neurons = 2\n",
    "# Number of output neurons = 1\n",
    "\n",
    "# Training input sample\n",
    "xor_X = np.array([[0,0],\n",
    "            [0,1],\n",
    "            [1,0],\n",
    "            [1,1]])\n",
    "\n",
    "# Training output sample\n",
    "# outpur represented as <-1,1,1,-1>\n",
    "\n",
    "xor_Y = np.array([[-1],[1],[1],[-1]])\n",
    "\n",
    "visualize(xor_X, xor_Y)"
   ]
  },
  {
   "cell_type": "code",
   "execution_count": 13,
   "metadata": {},
   "outputs": [
    {
     "name": "stdout",
     "output_type": "stream",
     "text": [
      "Before training\n",
      "{'n_x': 2, 'n_y': 1}\n",
      "W =  [[-1.]\n",
      " [-1.]]\n",
      "b =  [[-1.]]\n",
      "\n",
      " Training... \n",
      "\n",
      "After training\n",
      "A =  [[1.]\n",
      " [1.]\n",
      " [1.]\n",
      " [1.]]\n",
      "W =  [[-0.1]\n",
      " [-0.1]]\n",
      "b =  [[-8.32667268e-17]]\n"
     ]
    }
   ],
   "source": [
    "print('Before training')\n",
    "xor_size = initialize_sizes(xor_X, xor_Y)\n",
    "print(xor_size)\n",
    "\n",
    "xor_weights = {\"W\": -np.ones((size['n_x'], size['n_y'])),\n",
    "            \"b\": -np.ones((size['n_y'], 1)) }\n",
    "\n",
    "print('W = ', xor_weights['W'])\n",
    "print('b = ', xor_weights['b'])\n",
    "\n",
    "\n",
    "print('\\n Training... \\n')\n",
    "xor_result = forward_propagation(xor_X, xor_Y, xor_weights, 25)\n",
    "\n",
    "print('After training')\n",
    "print('A = ', xor_result['A'])\n",
    "print('W = ', xor_result['W'])\n",
    "print('b = ', xor_result['b'])"
   ]
  },
  {
   "cell_type": "code",
   "execution_count": 14,
   "metadata": {},
   "outputs": [
    {
     "name": "stdout",
     "output_type": "stream",
     "text": [
      "50.0\n"
     ]
    }
   ],
   "source": [
    "# Compute accuracy\n",
    "\n",
    "accuracy = np.mean( xor_result['A'].flatten() == xor_Y.flatten() )\n",
    "\n",
    "print(accuracy * 100)"
   ]
  },
  {
   "cell_type": "code",
   "execution_count": 15,
   "metadata": {},
   "outputs": [
    {
     "data": {
      "image/png": "[encoded data removed]",
      "text/plain": [
       "<Figure size 432x288 with 1 Axes>"
      ]
     },
     "metadata": {
      "needs_background": "light"
     },
     "output_type": "display_data"
    },
    {
     "data": {
      "image/png": "[encoded data removed]",
      "text/plain": [
       "<Figure size 432x288 with 1 Axes>"
      ]
     },
     "metadata": {
      "needs_background": "light"
     },
     "output_type": "display_data"
    }
   ],
   "source": [
    "# Visualization of decision boundary and loss function\n",
    "decision_boundary(xor_X, xor_Y, xor_result)\n",
    "plot_cost_function(xor_result)"
   ]
  }
 ],
 "metadata": {
  "kernelspec": {
   "display_name": "Python 3",
   "language": "python",
   "name": "python3"
  },
  "language_info": {
   "codemirror_mode": {
    "name": "ipython",
    "version": 3
   },
   "file_extension": ".py",
   "mimetype": "text/x-python",
   "name": "python",
   "nbconvert_exporter": "python",
   "pygments_lexer": "ipython3",
   "version": "3.7.3"
  }
 },
 "nbformat": 4,
 "nbformat_minor": 2
}
